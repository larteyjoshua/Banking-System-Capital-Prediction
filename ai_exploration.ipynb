{
 "cells": [
  {
   "cell_type": "markdown",
   "id": "2996493f",
   "metadata": {},
   "source": [
    "# Explore Capital Need for the Banking System of Ghana(Millions of Ghana Cedis)"
   ]
  },
  {
   "cell_type": "code",
   "execution_count": 2,
   "id": "f2a5fb57",
   "metadata": {},
   "outputs": [],
   "source": [
    "# Import the necessary libraries\n",
    "import numpy as np\n",
    "import pandas as pd\n",
    "from sklearn.linear_model import LinearRegression"
   ]
  },
  {
   "cell_type": "code",
   "execution_count": 3,
   "id": "85135e33",
   "metadata": {},
   "outputs": [],
   "source": [
    "assetData = pd.read_csv('banking_system_asset_ghana.csv')\n",
    "liabilityData = pd.read_csv('banking_system_liability_ghana.csv')"
   ]
  },
  {
   "cell_type": "code",
   "execution_count": 4,
   "id": "fd0e980e",
   "metadata": {},
   "outputs": [
    {
     "data": {
      "text/html": [
       "<div>\n",
       "<style scoped>\n",
       "    .dataframe tbody tr th:only-of-type {\n",
       "        vertical-align: middle;\n",
       "    }\n",
       "\n",
       "    .dataframe tbody tr th {\n",
       "        vertical-align: top;\n",
       "    }\n",
       "\n",
       "    .dataframe thead th {\n",
       "        text-align: right;\n",
       "    }\n",
       "</style>\n",
       "<table border=\"1\" class=\"dataframe\">\n",
       "  <thead>\n",
       "    <tr style=\"text-align: right;\">\n",
       "      <th></th>\n",
       "      <th>Year</th>\n",
       "      <th>Interest Rates</th>\n",
       "      <th>Jan</th>\n",
       "      <th>Feb</th>\n",
       "      <th>Mar</th>\n",
       "      <th>Apr</th>\n",
       "      <th>May</th>\n",
       "      <th>Jun</th>\n",
       "      <th>Jul</th>\n",
       "      <th>Aug</th>\n",
       "      <th>Sep</th>\n",
       "      <th>Oct</th>\n",
       "      <th>Nov</th>\n",
       "      <th>Dec</th>\n",
       "      <th>Total</th>\n",
       "    </tr>\n",
       "  </thead>\n",
       "  <tbody>\n",
       "    <tr>\n",
       "      <th>0</th>\n",
       "      <td>2022</td>\n",
       "      <td>29.5</td>\n",
       "      <td>137,474.29</td>\n",
       "      <td>139,444.38</td>\n",
       "      <td>142,729.13</td>\n",
       "      <td>142,563.67</td>\n",
       "      <td>142,642.75</td>\n",
       "      <td>145,156.93</td>\n",
       "      <td>150,415.50</td>\n",
       "      <td>152,455.83</td>\n",
       "      <td>160,157.59</td>\n",
       "      <td>187,659.20</td>\n",
       "      <td>194,979.44</td>\n",
       "      <td>180,266.84</td>\n",
       "      <td>1,875,945.55</td>\n",
       "    </tr>\n",
       "    <tr>\n",
       "      <th>1</th>\n",
       "      <td>2021</td>\n",
       "      <td>22.5</td>\n",
       "      <td>117,976.85</td>\n",
       "      <td>118,467.48</td>\n",
       "      <td>119,445.22</td>\n",
       "      <td>118,933.79</td>\n",
       "      <td>120,451.55</td>\n",
       "      <td>121,891.32</td>\n",
       "      <td>122,643.76</td>\n",
       "      <td>123,548.57</td>\n",
       "      <td>124,596.60</td>\n",
       "      <td>129,231.01</td>\n",
       "      <td>131,645.92</td>\n",
       "      <td>135,555.75</td>\n",
       "      <td>1,484,387.82</td>\n",
       "    </tr>\n",
       "    <tr>\n",
       "      <th>2</th>\n",
       "      <td>2020</td>\n",
       "      <td>25.0</td>\n",
       "      <td>91,907.42</td>\n",
       "      <td>91,762.67</td>\n",
       "      <td>92,905.07</td>\n",
       "      <td>94,556.02</td>\n",
       "      <td>98,540.00</td>\n",
       "      <td>100,498.91</td>\n",
       "      <td>101,564.14</td>\n",
       "      <td>102,814.68</td>\n",
       "      <td>109,134.38</td>\n",
       "      <td>112,859.69</td>\n",
       "      <td>116,597.74</td>\n",
       "      <td>120,521.82</td>\n",
       "      <td>1,233,662.54</td>\n",
       "    </tr>\n",
       "    <tr>\n",
       "      <th>3</th>\n",
       "      <td>2019</td>\n",
       "      <td>27.5</td>\n",
       "      <td>78,580.20</td>\n",
       "      <td>80,115.31</td>\n",
       "      <td>81,837.16</td>\n",
       "      <td>81,021.35</td>\n",
       "      <td>81,870.59</td>\n",
       "      <td>83,517.12</td>\n",
       "      <td>81,991.64</td>\n",
       "      <td>82,381.98</td>\n",
       "      <td>85,873.08</td>\n",
       "      <td>86,834.80</td>\n",
       "      <td>89,750.09</td>\n",
       "      <td>92,952.95</td>\n",
       "      <td>1,006,726.27</td>\n",
       "    </tr>\n",
       "    <tr>\n",
       "      <th>4</th>\n",
       "      <td>2018</td>\n",
       "      <td>28.0</td>\n",
       "      <td>65,731.09</td>\n",
       "      <td>65,460.47</td>\n",
       "      <td>67,318.47</td>\n",
       "      <td>68,362.48</td>\n",
       "      <td>68,909.37</td>\n",
       "      <td>68,402.24</td>\n",
       "      <td>71,413.78</td>\n",
       "      <td>73,665.72</td>\n",
       "      <td>73,821.71</td>\n",
       "      <td>74,641.05</td>\n",
       "      <td>75,899.85</td>\n",
       "      <td>76,380.39</td>\n",
       "      <td>850,006.62</td>\n",
       "    </tr>\n",
       "  </tbody>\n",
       "</table>\n",
       "</div>"
      ],
      "text/plain": [
       "   Year  Interest Rates         Jan         Feb         Mar         Apr  \\\n",
       "0  2022            29.5  137,474.29  139,444.38  142,729.13  142,563.67   \n",
       "1  2021            22.5  117,976.85  118,467.48  119,445.22  118,933.79   \n",
       "2  2020            25.0   91,907.42   91,762.67   92,905.07   94,556.02   \n",
       "3  2019            27.5   78,580.20   80,115.31   81,837.16   81,021.35   \n",
       "4  2018            28.0   65,731.09   65,460.47   67,318.47   68,362.48   \n",
       "\n",
       "          May         Jun         Jul         Aug         Sep         Oct  \\\n",
       "0  142,642.75  145,156.93  150,415.50  152,455.83  160,157.59  187,659.20   \n",
       "1  120,451.55  121,891.32  122,643.76  123,548.57  124,596.60  129,231.01   \n",
       "2   98,540.00  100,498.91  101,564.14  102,814.68  109,134.38  112,859.69   \n",
       "3   81,870.59   83,517.12   81,991.64   82,381.98   85,873.08   86,834.80   \n",
       "4   68,909.37   68,402.24   71,413.78   73,665.72   73,821.71   74,641.05   \n",
       "\n",
       "          Nov         Dec         Total  \n",
       "0  194,979.44  180,266.84  1,875,945.55  \n",
       "1  131,645.92  135,555.75  1,484,387.82  \n",
       "2  116,597.74  120,521.82  1,233,662.54  \n",
       "3   89,750.09   92,952.95  1,006,726.27  \n",
       "4   75,899.85   76,380.39    850,006.62  "
      ]
     },
     "execution_count": 4,
     "metadata": {},
     "output_type": "execute_result"
    }
   ],
   "source": [
    "assetData.head()"
   ]
  },
  {
   "cell_type": "code",
   "execution_count": 5,
   "id": "bc4062fd",
   "metadata": {},
   "outputs": [
    {
     "data": {
      "text/html": [
       "<div>\n",
       "<style scoped>\n",
       "    .dataframe tbody tr th:only-of-type {\n",
       "        vertical-align: middle;\n",
       "    }\n",
       "\n",
       "    .dataframe tbody tr th {\n",
       "        vertical-align: top;\n",
       "    }\n",
       "\n",
       "    .dataframe thead th {\n",
       "        text-align: right;\n",
       "    }\n",
       "</style>\n",
       "<table border=\"1\" class=\"dataframe\">\n",
       "  <thead>\n",
       "    <tr style=\"text-align: right;\">\n",
       "      <th></th>\n",
       "      <th>Year</th>\n",
       "      <th>Interest Rates</th>\n",
       "      <th>Jan</th>\n",
       "      <th>Feb</th>\n",
       "      <th>Mar</th>\n",
       "      <th>Apr</th>\n",
       "      <th>May</th>\n",
       "      <th>Jun</th>\n",
       "      <th>Jul</th>\n",
       "      <th>Aug</th>\n",
       "      <th>Sep</th>\n",
       "      <th>Oct</th>\n",
       "      <th>Nov</th>\n",
       "      <th>Dec</th>\n",
       "      <th>Total</th>\n",
       "    </tr>\n",
       "  </thead>\n",
       "  <tbody>\n",
       "    <tr>\n",
       "      <th>0</th>\n",
       "      <td>2022</td>\n",
       "      <td>29.5</td>\n",
       "      <td>137,474.29</td>\n",
       "      <td>139,444.38</td>\n",
       "      <td>142,729.13</td>\n",
       "      <td>142,563.67</td>\n",
       "      <td>142,642.75</td>\n",
       "      <td>145,156.93</td>\n",
       "      <td>150,415.50</td>\n",
       "      <td>152,455.83</td>\n",
       "      <td>160,157.59</td>\n",
       "      <td>187,659.20</td>\n",
       "      <td>194,979.44</td>\n",
       "      <td>180,266.84</td>\n",
       "      <td>1,875,945.55</td>\n",
       "    </tr>\n",
       "    <tr>\n",
       "      <th>1</th>\n",
       "      <td>2021</td>\n",
       "      <td>22.5</td>\n",
       "      <td>117,976.85</td>\n",
       "      <td>118,467.48</td>\n",
       "      <td>119,445.22</td>\n",
       "      <td>118,933.79</td>\n",
       "      <td>120,451.55</td>\n",
       "      <td>121,891.32</td>\n",
       "      <td>122,643.76</td>\n",
       "      <td>123,548.57</td>\n",
       "      <td>124,596.60</td>\n",
       "      <td>129,231.01</td>\n",
       "      <td>131,645.92</td>\n",
       "      <td>135,555.75</td>\n",
       "      <td>1,484,387.82</td>\n",
       "    </tr>\n",
       "    <tr>\n",
       "      <th>2</th>\n",
       "      <td>2020</td>\n",
       "      <td>25.0</td>\n",
       "      <td>91,907.42</td>\n",
       "      <td>91,762.67</td>\n",
       "      <td>92,905.07</td>\n",
       "      <td>94,556.02</td>\n",
       "      <td>98,540.00</td>\n",
       "      <td>100,498.91</td>\n",
       "      <td>101,564.14</td>\n",
       "      <td>102,814.68</td>\n",
       "      <td>109,134.38</td>\n",
       "      <td>112,859.69</td>\n",
       "      <td>116,597.74</td>\n",
       "      <td>120,521.82</td>\n",
       "      <td>1,233,662.54</td>\n",
       "    </tr>\n",
       "    <tr>\n",
       "      <th>3</th>\n",
       "      <td>2019</td>\n",
       "      <td>27.5</td>\n",
       "      <td>78,580.20</td>\n",
       "      <td>80,115.31</td>\n",
       "      <td>81,837.16</td>\n",
       "      <td>81,021.35</td>\n",
       "      <td>81,870.59</td>\n",
       "      <td>83,517.12</td>\n",
       "      <td>81,991.64</td>\n",
       "      <td>82,381.98</td>\n",
       "      <td>85,873.08</td>\n",
       "      <td>86,834.80</td>\n",
       "      <td>89,750.09</td>\n",
       "      <td>92,952.95</td>\n",
       "      <td>1,006,726.27</td>\n",
       "    </tr>\n",
       "    <tr>\n",
       "      <th>4</th>\n",
       "      <td>2018</td>\n",
       "      <td>28.0</td>\n",
       "      <td>65,731.09</td>\n",
       "      <td>65,460.47</td>\n",
       "      <td>67,318.47</td>\n",
       "      <td>68,362.48</td>\n",
       "      <td>68,909.37</td>\n",
       "      <td>68,402.24</td>\n",
       "      <td>71,413.78</td>\n",
       "      <td>73,665.72</td>\n",
       "      <td>73,821.71</td>\n",
       "      <td>74,641.05</td>\n",
       "      <td>75,899.85</td>\n",
       "      <td>76,380.39</td>\n",
       "      <td>850,006.62</td>\n",
       "    </tr>\n",
       "  </tbody>\n",
       "</table>\n",
       "</div>"
      ],
      "text/plain": [
       "   Year  Interest Rates         Jan         Feb         Mar         Apr  \\\n",
       "0  2022            29.5  137,474.29  139,444.38  142,729.13  142,563.67   \n",
       "1  2021            22.5  117,976.85  118,467.48  119,445.22  118,933.79   \n",
       "2  2020            25.0   91,907.42   91,762.67   92,905.07   94,556.02   \n",
       "3  2019            27.5   78,580.20   80,115.31   81,837.16   81,021.35   \n",
       "4  2018            28.0   65,731.09   65,460.47   67,318.47   68,362.48   \n",
       "\n",
       "          May         Jun         Jul         Aug         Sep         Oct  \\\n",
       "0  142,642.75  145,156.93  150,415.50  152,455.83  160,157.59  187,659.20   \n",
       "1  120,451.55  121,891.32  122,643.76  123,548.57  124,596.60  129,231.01   \n",
       "2   98,540.00  100,498.91  101,564.14  102,814.68  109,134.38  112,859.69   \n",
       "3   81,870.59   83,517.12   81,991.64   82,381.98   85,873.08   86,834.80   \n",
       "4   68,909.37   68,402.24   71,413.78   73,665.72   73,821.71   74,641.05   \n",
       "\n",
       "          Nov         Dec         Total  \n",
       "0  194,979.44  180,266.84  1,875,945.55  \n",
       "1  131,645.92  135,555.75  1,484,387.82  \n",
       "2  116,597.74  120,521.82  1,233,662.54  \n",
       "3   89,750.09   92,952.95  1,006,726.27  \n",
       "4   75,899.85   76,380.39    850,006.62  "
      ]
     },
     "execution_count": 5,
     "metadata": {},
     "output_type": "execute_result"
    }
   ],
   "source": [
    "liabilityData.head()"
   ]
  },
  {
   "cell_type": "code",
   "execution_count": 6,
   "id": "9895bef7",
   "metadata": {},
   "outputs": [
    {
     "name": "stdout",
     "output_type": "stream",
     "text": [
      "<class 'pandas.core.frame.DataFrame'>\n",
      "RangeIndex: 23 entries, 0 to 22\n",
      "Data columns (total 15 columns):\n",
      " #   Column          Non-Null Count  Dtype  \n",
      "---  ------          --------------  -----  \n",
      " 0   Year            23 non-null     int64  \n",
      " 1   Interest Rates  23 non-null     float64\n",
      " 2   Jan             23 non-null     object \n",
      " 3   Feb             23 non-null     object \n",
      " 4   Mar             23 non-null     object \n",
      " 5   Apr             23 non-null     object \n",
      " 6   May             23 non-null     object \n",
      " 7   Jun             23 non-null     object \n",
      " 8   Jul             23 non-null     object \n",
      " 9   Aug             23 non-null     object \n",
      " 10  Sep             23 non-null     object \n",
      " 11  Oct             23 non-null     object \n",
      " 12  Nov             23 non-null     object \n",
      " 13  Dec             23 non-null     object \n",
      " 14  Total           23 non-null     object \n",
      "dtypes: float64(1), int64(1), object(13)\n",
      "memory usage: 2.8+ KB\n"
     ]
    }
   ],
   "source": [
    "assetData.info()"
   ]
  },
  {
   "cell_type": "code",
   "execution_count": 7,
   "id": "b1e0af27",
   "metadata": {},
   "outputs": [
    {
     "name": "stdout",
     "output_type": "stream",
     "text": [
      "<class 'pandas.core.frame.DataFrame'>\n",
      "RangeIndex: 23 entries, 0 to 22\n",
      "Data columns (total 15 columns):\n",
      " #   Column          Non-Null Count  Dtype  \n",
      "---  ------          --------------  -----  \n",
      " 0   Year            23 non-null     int64  \n",
      " 1   Interest Rates  23 non-null     float64\n",
      " 2   Jan             23 non-null     object \n",
      " 3   Feb             23 non-null     object \n",
      " 4   Mar             23 non-null     object \n",
      " 5   Apr             23 non-null     object \n",
      " 6   May             23 non-null     object \n",
      " 7   Jun             23 non-null     object \n",
      " 8   Jul             23 non-null     object \n",
      " 9   Aug             23 non-null     object \n",
      " 10  Sep             23 non-null     object \n",
      " 11  Oct             23 non-null     object \n",
      " 12  Nov             23 non-null     object \n",
      " 13  Dec             23 non-null     object \n",
      " 14  Total           23 non-null     object \n",
      "dtypes: float64(1), int64(1), object(13)\n",
      "memory usage: 2.8+ KB\n"
     ]
    }
   ],
   "source": [
    "liabilityData.info()"
   ]
  },
  {
   "cell_type": "code",
   "execution_count": 8,
   "id": "e356b790",
   "metadata": {},
   "outputs": [],
   "source": [
    "def check_data(df):\n",
    "    print(80 * \"*\")\n",
    "    print('DIMENSION: ({}, {})'.format(df.shape[0], df.shape[1]))\n",
    "    print(80 * \"*\")\n",
    "    print(\"COLUMNS:\\n\")\n",
    "    print(df.columns.values)\n",
    "    print(80 * \"*\")\n",
    "    print(\"DATA INFO:\\n\")\n",
    "    print(df.dtypes)\n",
    "    print(80 * \"*\")\n",
    "    print(\"MISSING VALUES:\\n\")\n",
    "    print(df.isnull().sum())\n",
    "    print(80 * \"*\")\n",
    "    print(\"NUMBER OF UNIQUE VALUES:\\n\")\n",
    "    print(df.nunique())"
   ]
  },
  {
   "cell_type": "code",
   "execution_count": 9,
   "id": "ff52b345",
   "metadata": {},
   "outputs": [
    {
     "name": "stdout",
     "output_type": "stream",
     "text": [
      "********************************************************************************\n",
      "DIMENSION: (23, 15)\n",
      "********************************************************************************\n",
      "COLUMNS:\n",
      "\n",
      "['Year' 'Interest Rates' 'Jan' 'Feb' 'Mar' 'Apr' 'May' 'Jun' 'Jul' 'Aug'\n",
      " 'Sep' 'Oct' 'Nov' 'Dec' 'Total']\n",
      "********************************************************************************\n",
      "DATA INFO:\n",
      "\n",
      "Year                int64\n",
      "Interest Rates    float64\n",
      "Jan                object\n",
      "Feb                object\n",
      "Mar                object\n",
      "Apr                object\n",
      "May                object\n",
      "Jun                object\n",
      "Jul                object\n",
      "Aug                object\n",
      "Sep                object\n",
      "Oct                object\n",
      "Nov                object\n",
      "Dec                object\n",
      "Total              object\n",
      "dtype: object\n",
      "********************************************************************************\n",
      "MISSING VALUES:\n",
      "\n",
      "Year              0\n",
      "Interest Rates    0\n",
      "Jan               0\n",
      "Feb               0\n",
      "Mar               0\n",
      "Apr               0\n",
      "May               0\n",
      "Jun               0\n",
      "Jul               0\n",
      "Aug               0\n",
      "Sep               0\n",
      "Oct               0\n",
      "Nov               0\n",
      "Dec               0\n",
      "Total             0\n",
      "dtype: int64\n",
      "********************************************************************************\n",
      "NUMBER OF UNIQUE VALUES:\n",
      "\n",
      "Year              23\n",
      "Interest Rates    12\n",
      "Jan               23\n",
      "Feb               23\n",
      "Mar               23\n",
      "Apr               23\n",
      "May               23\n",
      "Jun               23\n",
      "Jul               23\n",
      "Aug               23\n",
      "Sep               23\n",
      "Oct               23\n",
      "Nov               23\n",
      "Dec               23\n",
      "Total             23\n",
      "dtype: int64\n"
     ]
    }
   ],
   "source": [
    "check_data(assetData)"
   ]
  },
  {
   "cell_type": "code",
   "execution_count": 10,
   "id": "5a66c423",
   "metadata": {},
   "outputs": [
    {
     "name": "stdout",
     "output_type": "stream",
     "text": [
      "********************************************************************************\n",
      "DIMENSION: (23, 15)\n",
      "********************************************************************************\n",
      "COLUMNS:\n",
      "\n",
      "['Year' 'Interest Rates' 'Jan' 'Feb' 'Mar' 'Apr' 'May' 'Jun' 'Jul' 'Aug'\n",
      " 'Sep' 'Oct' 'Nov' 'Dec' 'Total']\n",
      "********************************************************************************\n",
      "DATA INFO:\n",
      "\n",
      "Year                int64\n",
      "Interest Rates    float64\n",
      "Jan                object\n",
      "Feb                object\n",
      "Mar                object\n",
      "Apr                object\n",
      "May                object\n",
      "Jun                object\n",
      "Jul                object\n",
      "Aug                object\n",
      "Sep                object\n",
      "Oct                object\n",
      "Nov                object\n",
      "Dec                object\n",
      "Total              object\n",
      "dtype: object\n",
      "********************************************************************************\n",
      "MISSING VALUES:\n",
      "\n",
      "Year              0\n",
      "Interest Rates    0\n",
      "Jan               0\n",
      "Feb               0\n",
      "Mar               0\n",
      "Apr               0\n",
      "May               0\n",
      "Jun               0\n",
      "Jul               0\n",
      "Aug               0\n",
      "Sep               0\n",
      "Oct               0\n",
      "Nov               0\n",
      "Dec               0\n",
      "Total             0\n",
      "dtype: int64\n",
      "********************************************************************************\n",
      "NUMBER OF UNIQUE VALUES:\n",
      "\n",
      "Year              23\n",
      "Interest Rates    12\n",
      "Jan               23\n",
      "Feb               23\n",
      "Mar               23\n",
      "Apr               23\n",
      "May               23\n",
      "Jun               23\n",
      "Jul               23\n",
      "Aug               23\n",
      "Sep               23\n",
      "Oct               23\n",
      "Nov               23\n",
      "Dec               23\n",
      "Total             23\n",
      "dtype: int64\n"
     ]
    }
   ],
   "source": [
    "check_data(liabilityData)"
   ]
  },
  {
   "cell_type": "code",
   "execution_count": 23,
   "id": "8e32a7a1",
   "metadata": {},
   "outputs": [],
   "source": [
    "assetData['Total'] =assetData['Total'].str.replace(',', '').astype(float)\n"
   ]
  },
  {
   "cell_type": "code",
   "execution_count": 24,
   "id": "56711e8f",
   "metadata": {},
   "outputs": [],
   "source": [
    "assetX = assetData[['Year','Interest Rates' ]]\n",
    "assetY = assetData['Total']"
   ]
  },
  {
   "cell_type": "code",
   "execution_count": 25,
   "id": "82472589",
   "metadata": {},
   "outputs": [],
   "source": [
    "from sklearn.model_selection import train_test_split\n",
    "\n",
    "x_train, x_test, y_train, y_test = train_test_split(assetX, assetY, test_size = 0.3)"
   ]
  },
  {
   "cell_type": "code",
   "execution_count": 26,
   "id": "f7baf174",
   "metadata": {},
   "outputs": [],
   "source": [
    "assetModel = LinearRegression()"
   ]
  },
  {
   "cell_type": "code",
   "execution_count": 27,
   "id": "a2681ae4",
   "metadata": {},
   "outputs": [
    {
     "data": {
      "text/html": [
       "<style>#sk-container-id-1 {color: black;background-color: white;}#sk-container-id-1 pre{padding: 0;}#sk-container-id-1 div.sk-toggleable {background-color: white;}#sk-container-id-1 label.sk-toggleable__label {cursor: pointer;display: block;width: 100%;margin-bottom: 0;padding: 0.3em;box-sizing: border-box;text-align: center;}#sk-container-id-1 label.sk-toggleable__label-arrow:before {content: \"▸\";float: left;margin-right: 0.25em;color: #696969;}#sk-container-id-1 label.sk-toggleable__label-arrow:hover:before {color: black;}#sk-container-id-1 div.sk-estimator:hover label.sk-toggleable__label-arrow:before {color: black;}#sk-container-id-1 div.sk-toggleable__content {max-height: 0;max-width: 0;overflow: hidden;text-align: left;background-color: #f0f8ff;}#sk-container-id-1 div.sk-toggleable__content pre {margin: 0.2em;color: black;border-radius: 0.25em;background-color: #f0f8ff;}#sk-container-id-1 input.sk-toggleable__control:checked~div.sk-toggleable__content {max-height: 200px;max-width: 100%;overflow: auto;}#sk-container-id-1 input.sk-toggleable__control:checked~label.sk-toggleable__label-arrow:before {content: \"▾\";}#sk-container-id-1 div.sk-estimator input.sk-toggleable__control:checked~label.sk-toggleable__label {background-color: #d4ebff;}#sk-container-id-1 div.sk-label input.sk-toggleable__control:checked~label.sk-toggleable__label {background-color: #d4ebff;}#sk-container-id-1 input.sk-hidden--visually {border: 0;clip: rect(1px 1px 1px 1px);clip: rect(1px, 1px, 1px, 1px);height: 1px;margin: -1px;overflow: hidden;padding: 0;position: absolute;width: 1px;}#sk-container-id-1 div.sk-estimator {font-family: monospace;background-color: #f0f8ff;border: 1px dotted black;border-radius: 0.25em;box-sizing: border-box;margin-bottom: 0.5em;}#sk-container-id-1 div.sk-estimator:hover {background-color: #d4ebff;}#sk-container-id-1 div.sk-parallel-item::after {content: \"\";width: 100%;border-bottom: 1px solid gray;flex-grow: 1;}#sk-container-id-1 div.sk-label:hover label.sk-toggleable__label {background-color: #d4ebff;}#sk-container-id-1 div.sk-serial::before {content: \"\";position: absolute;border-left: 1px solid gray;box-sizing: border-box;top: 0;bottom: 0;left: 50%;z-index: 0;}#sk-container-id-1 div.sk-serial {display: flex;flex-direction: column;align-items: center;background-color: white;padding-right: 0.2em;padding-left: 0.2em;position: relative;}#sk-container-id-1 div.sk-item {position: relative;z-index: 1;}#sk-container-id-1 div.sk-parallel {display: flex;align-items: stretch;justify-content: center;background-color: white;position: relative;}#sk-container-id-1 div.sk-item::before, #sk-container-id-1 div.sk-parallel-item::before {content: \"\";position: absolute;border-left: 1px solid gray;box-sizing: border-box;top: 0;bottom: 0;left: 50%;z-index: -1;}#sk-container-id-1 div.sk-parallel-item {display: flex;flex-direction: column;z-index: 1;position: relative;background-color: white;}#sk-container-id-1 div.sk-parallel-item:first-child::after {align-self: flex-end;width: 50%;}#sk-container-id-1 div.sk-parallel-item:last-child::after {align-self: flex-start;width: 50%;}#sk-container-id-1 div.sk-parallel-item:only-child::after {width: 0;}#sk-container-id-1 div.sk-dashed-wrapped {border: 1px dashed gray;margin: 0 0.4em 0.5em 0.4em;box-sizing: border-box;padding-bottom: 0.4em;background-color: white;}#sk-container-id-1 div.sk-label label {font-family: monospace;font-weight: bold;display: inline-block;line-height: 1.2em;}#sk-container-id-1 div.sk-label-container {text-align: center;}#sk-container-id-1 div.sk-container {/* jupyter's `normalize.less` sets `[hidden] { display: none; }` but bootstrap.min.css set `[hidden] { display: none !important; }` so we also need the `!important` here to be able to override the default hidden behavior on the sphinx rendered scikit-learn.org. See: https://github.com/scikit-learn/scikit-learn/issues/21755 */display: inline-block !important;position: relative;}#sk-container-id-1 div.sk-text-repr-fallback {display: none;}</style><div id=\"sk-container-id-1\" class=\"sk-top-container\"><div class=\"sk-text-repr-fallback\"><pre>LinearRegression()</pre><b>In a Jupyter environment, please rerun this cell to show the HTML representation or trust the notebook. <br />On GitHub, the HTML representation is unable to render, please try loading this page with nbviewer.org.</b></div><div class=\"sk-container\" hidden><div class=\"sk-item\"><div class=\"sk-estimator sk-toggleable\"><input class=\"sk-toggleable__control sk-hidden--visually\" id=\"sk-estimator-id-1\" type=\"checkbox\" checked><label for=\"sk-estimator-id-1\" class=\"sk-toggleable__label sk-toggleable__label-arrow\">LinearRegression</label><div class=\"sk-toggleable__content\"><pre>LinearRegression()</pre></div></div></div></div></div>"
      ],
      "text/plain": [
       "LinearRegression()"
      ]
     },
     "execution_count": 27,
     "metadata": {},
     "output_type": "execute_result"
    }
   ],
   "source": [
    "assetModel.fit(x_train, y_train)"
   ]
  },
  {
   "cell_type": "code",
   "execution_count": 28,
   "id": "a8561d47",
   "metadata": {},
   "outputs": [
    {
     "name": "stdout",
     "output_type": "stream",
     "text": [
      "[60413.43315525 33789.07784665]\n"
     ]
    }
   ],
   "source": [
    "print(assetModel.coef_)"
   ]
  },
  {
   "cell_type": "code",
   "execution_count": 29,
   "id": "401e064f",
   "metadata": {},
   "outputs": [
    {
     "name": "stdout",
     "output_type": "stream",
     "text": [
      "-121789669.86820045\n"
     ]
    }
   ],
   "source": [
    "print(assetModel.intercept_)"
   ]
  },
  {
   "cell_type": "code",
   "execution_count": 30,
   "id": "e90f30f1",
   "metadata": {},
   "outputs": [],
   "source": [
    "import matplotlib.pyplot as plt\n",
    "\n",
    "import seaborn as sns\n",
    "\n",
    "%matplotlib inline"
   ]
  },
  {
   "cell_type": "code",
   "execution_count": 33,
   "id": "716475ac",
   "metadata": {},
   "outputs": [
    {
     "data": {
      "text/html": [
       "<div>\n",
       "<style scoped>\n",
       "    .dataframe tbody tr th:only-of-type {\n",
       "        vertical-align: middle;\n",
       "    }\n",
       "\n",
       "    .dataframe tbody tr th {\n",
       "        vertical-align: top;\n",
       "    }\n",
       "\n",
       "    .dataframe thead th {\n",
       "        text-align: right;\n",
       "    }\n",
       "</style>\n",
       "<table border=\"1\" class=\"dataframe\">\n",
       "  <thead>\n",
       "    <tr style=\"text-align: right;\">\n",
       "      <th></th>\n",
       "      <th>Coeff</th>\n",
       "    </tr>\n",
       "  </thead>\n",
       "  <tbody>\n",
       "    <tr>\n",
       "      <th>Year</th>\n",
       "      <td>60413.433155</td>\n",
       "    </tr>\n",
       "    <tr>\n",
       "      <th>Interest Rates</th>\n",
       "      <td>33789.077847</td>\n",
       "    </tr>\n",
       "  </tbody>\n",
       "</table>\n",
       "</div>"
      ],
      "text/plain": [
       "                       Coeff\n",
       "Year            60413.433155\n",
       "Interest Rates  33789.077847"
      ]
     },
     "execution_count": 33,
     "metadata": {},
     "output_type": "execute_result"
    }
   ],
   "source": [
    "pd.DataFrame(assetModel.coef_, assetX.columns, columns = ['Coeff'])"
   ]
  },
  {
   "cell_type": "code",
   "execution_count": 36,
   "id": "4f4a3286",
   "metadata": {},
   "outputs": [],
   "source": [
    "predictions = assetModel.predict(x_test)"
   ]
  },
  {
   "cell_type": "code",
   "execution_count": 37,
   "id": "be22ee65",
   "metadata": {},
   "outputs": [
    {
     "data": {
      "text/plain": [
       "array([1066132.79010126,   19644.79369152,  353466.50247079,\n",
       "        703652.19116978,  993424.44671351,  148166.94154368,\n",
       "         89788.04323204])"
      ]
     },
     "execution_count": 37,
     "metadata": {},
     "output_type": "execute_result"
    }
   ],
   "source": [
    "predictions"
   ]
  },
  {
   "cell_type": "code",
   "execution_count": 41,
   "id": "645a1500",
   "metadata": {},
   "outputs": [
    {
     "data": {
      "text/plain": [
       "1     1484387.82\n",
       "20      14316.63\n",
       "10     239918.37\n",
       "7      483533.95\n",
       "5      725428.69\n",
       "12     134194.71\n",
       "18      27560.77\n",
       "Name: Total, dtype: float64"
      ]
     },
     "execution_count": 41,
     "metadata": {},
     "output_type": "execute_result"
    }
   ],
   "source": [
    "y_test"
   ]
  },
  {
   "cell_type": "code",
   "execution_count": 44,
   "id": "7a6b5d4e",
   "metadata": {},
   "outputs": [
    {
     "data": {
      "text/plain": [
       "<matplotlib.collections.PathCollection at 0x183e199f2e0>"
      ]
     },
     "execution_count": 44,
     "metadata": {},
     "output_type": "execute_result"
    },
    {
     "data": {
      "image/png": "[encoded data removed]",
      "text/plain": [
       "<Figure size 640x480 with 1 Axes>"
      ]
     },
     "metadata": {},
     "output_type": "display_data"
    }
   ],
   "source": [
    "plt.scatter(y_test, predictions)"
   ]
  },
  {
   "cell_type": "code",
   "execution_count": 42,
   "id": "82e8ba2e",
   "metadata": {},
   "outputs": [
    {
     "data": {
      "text/plain": [
       "(array([2., 0., 2., 2., 0., 0., 0., 0., 0., 1.]),\n",
       " array([-267995.75671351, -199370.67805228, -130745.59939106,\n",
       "         -62120.52072983,    6504.55793139,   75129.63659262,\n",
       "         143754.71525384,  212379.79391507,  281004.87257629,\n",
       "         349629.95123752,  418255.02989874]),\n",
       " <BarContainer object of 10 artists>)"
      ]
     },
     "execution_count": 42,
     "metadata": {},
     "output_type": "execute_result"
    },
    {
     "data": {
      "image/png": "[encoded data removed]",
      "text/plain": [
       "<Figure size 640x480 with 1 Axes>"
      ]
     },
     "metadata": {},
     "output_type": "display_data"
    }
   ],
   "source": [
    "plt.hist(y_test - predictions)"
   ]
  },
  {
   "cell_type": "code",
   "execution_count": 43,
   "id": "b5d13b8e",
   "metadata": {},
   "outputs": [
    {
     "data": {
      "text/plain": [
       "211187.14119805594"
      ]
     },
     "execution_count": 43,
     "metadata": {},
     "output_type": "execute_result"
    }
   ],
   "source": [
    "from sklearn import metrics\n",
    "\n",
    "metrics.mean_absolute_error(y_test, predictions)\n",
    "\n",
    "metrics.mean_squared_error(y_test, predictions)\n",
    "\n",
    "np.sqrt(metrics.mean_squared_error(y_test, predictions))"
   ]
  },
  {
   "cell_type": "code",
   "execution_count": 53,
   "id": "c9a0b3e7",
   "metadata": {},
   "outputs": [
    {
     "ename": "AttributeError",
     "evalue": "Can only use .str accessor with string values!",
     "output_type": "error",
     "traceback": [
      "\u001b[1;31m---------------------------------------------------------------------------\u001b[0m",
      "\u001b[1;31mAttributeError\u001b[0m                            Traceback (most recent call last)",
      "Cell \u001b[1;32mIn[53], line 1\u001b[0m\n\u001b[1;32m----> 1\u001b[0m liabilityData[\u001b[38;5;124m'\u001b[39m\u001b[38;5;124mTotal\u001b[39m\u001b[38;5;124m'\u001b[39m] \u001b[38;5;241m=\u001b[39m\u001b[43massetData\u001b[49m\u001b[43m[\u001b[49m\u001b[38;5;124;43m'\u001b[39;49m\u001b[38;5;124;43mTotal\u001b[39;49m\u001b[38;5;124;43m'\u001b[39;49m\u001b[43m]\u001b[49m\u001b[38;5;241;43m.\u001b[39;49m\u001b[43mstr\u001b[49m\u001b[38;5;241m.\u001b[39mreplace(\u001b[38;5;124m'\u001b[39m\u001b[38;5;124m,\u001b[39m\u001b[38;5;124m'\u001b[39m, \u001b[38;5;124m'\u001b[39m\u001b[38;5;124m'\u001b[39m)\u001b[38;5;241m.\u001b[39mastype(\u001b[38;5;28mfloat\u001b[39m)\n",
      "File \u001b[1;32mE:\\enviroments\\ai-explore\\lib\\site-packages\\pandas\\core\\generic.py:5989\u001b[0m, in \u001b[0;36mNDFrame.__getattr__\u001b[1;34m(self, name)\u001b[0m\n\u001b[0;32m   5982\u001b[0m \u001b[38;5;28;01mif\u001b[39;00m (\n\u001b[0;32m   5983\u001b[0m     name \u001b[38;5;129;01mnot\u001b[39;00m \u001b[38;5;129;01min\u001b[39;00m \u001b[38;5;28mself\u001b[39m\u001b[38;5;241m.\u001b[39m_internal_names_set\n\u001b[0;32m   5984\u001b[0m     \u001b[38;5;129;01mand\u001b[39;00m name \u001b[38;5;129;01mnot\u001b[39;00m \u001b[38;5;129;01min\u001b[39;00m \u001b[38;5;28mself\u001b[39m\u001b[38;5;241m.\u001b[39m_metadata\n\u001b[0;32m   5985\u001b[0m     \u001b[38;5;129;01mand\u001b[39;00m name \u001b[38;5;129;01mnot\u001b[39;00m \u001b[38;5;129;01min\u001b[39;00m \u001b[38;5;28mself\u001b[39m\u001b[38;5;241m.\u001b[39m_accessors\n\u001b[0;32m   5986\u001b[0m     \u001b[38;5;129;01mand\u001b[39;00m \u001b[38;5;28mself\u001b[39m\u001b[38;5;241m.\u001b[39m_info_axis\u001b[38;5;241m.\u001b[39m_can_hold_identifiers_and_holds_name(name)\n\u001b[0;32m   5987\u001b[0m ):\n\u001b[0;32m   5988\u001b[0m     \u001b[38;5;28;01mreturn\u001b[39;00m \u001b[38;5;28mself\u001b[39m[name]\n\u001b[1;32m-> 5989\u001b[0m \u001b[38;5;28;01mreturn\u001b[39;00m \u001b[38;5;28;43mobject\u001b[39;49m\u001b[38;5;241;43m.\u001b[39;49m\u001b[38;5;21;43m__getattribute__\u001b[39;49m\u001b[43m(\u001b[49m\u001b[38;5;28;43mself\u001b[39;49m\u001b[43m,\u001b[49m\u001b[43m \u001b[49m\u001b[43mname\u001b[49m\u001b[43m)\u001b[49m\n",
      "File \u001b[1;32mE:\\enviroments\\ai-explore\\lib\\site-packages\\pandas\\core\\accessor.py:224\u001b[0m, in \u001b[0;36mCachedAccessor.__get__\u001b[1;34m(self, obj, cls)\u001b[0m\n\u001b[0;32m    221\u001b[0m \u001b[38;5;28;01mif\u001b[39;00m obj \u001b[38;5;129;01mis\u001b[39;00m \u001b[38;5;28;01mNone\u001b[39;00m:\n\u001b[0;32m    222\u001b[0m     \u001b[38;5;66;03m# we're accessing the attribute of the class, i.e., Dataset.geo\u001b[39;00m\n\u001b[0;32m    223\u001b[0m     \u001b[38;5;28;01mreturn\u001b[39;00m \u001b[38;5;28mself\u001b[39m\u001b[38;5;241m.\u001b[39m_accessor\n\u001b[1;32m--> 224\u001b[0m accessor_obj \u001b[38;5;241m=\u001b[39m \u001b[38;5;28;43mself\u001b[39;49m\u001b[38;5;241;43m.\u001b[39;49m\u001b[43m_accessor\u001b[49m\u001b[43m(\u001b[49m\u001b[43mobj\u001b[49m\u001b[43m)\u001b[49m\n\u001b[0;32m    225\u001b[0m \u001b[38;5;66;03m# Replace the property with the accessor object. Inspired by:\u001b[39;00m\n\u001b[0;32m    226\u001b[0m \u001b[38;5;66;03m# https://www.pydanny.com/cached-property.html\u001b[39;00m\n\u001b[0;32m    227\u001b[0m \u001b[38;5;66;03m# We need to use object.__setattr__ because we overwrite __setattr__ on\u001b[39;00m\n\u001b[0;32m    228\u001b[0m \u001b[38;5;66;03m# NDFrame\u001b[39;00m\n\u001b[0;32m    229\u001b[0m \u001b[38;5;28mobject\u001b[39m\u001b[38;5;241m.\u001b[39m\u001b[38;5;21m__setattr__\u001b[39m(obj, \u001b[38;5;28mself\u001b[39m\u001b[38;5;241m.\u001b[39m_name, accessor_obj)\n",
      "File \u001b[1;32mE:\\enviroments\\ai-explore\\lib\\site-packages\\pandas\\core\\strings\\accessor.py:181\u001b[0m, in \u001b[0;36mStringMethods.__init__\u001b[1;34m(self, data)\u001b[0m\n\u001b[0;32m    178\u001b[0m \u001b[38;5;28;01mdef\u001b[39;00m \u001b[38;5;21m__init__\u001b[39m(\u001b[38;5;28mself\u001b[39m, data) \u001b[38;5;241m-\u001b[39m\u001b[38;5;241m>\u001b[39m \u001b[38;5;28;01mNone\u001b[39;00m:\n\u001b[0;32m    179\u001b[0m     \u001b[38;5;28;01mfrom\u001b[39;00m \u001b[38;5;21;01mpandas\u001b[39;00m\u001b[38;5;21;01m.\u001b[39;00m\u001b[38;5;21;01mcore\u001b[39;00m\u001b[38;5;21;01m.\u001b[39;00m\u001b[38;5;21;01marrays\u001b[39;00m\u001b[38;5;21;01m.\u001b[39;00m\u001b[38;5;21;01mstring_\u001b[39;00m \u001b[38;5;28;01mimport\u001b[39;00m StringDtype\n\u001b[1;32m--> 181\u001b[0m     \u001b[38;5;28mself\u001b[39m\u001b[38;5;241m.\u001b[39m_inferred_dtype \u001b[38;5;241m=\u001b[39m \u001b[38;5;28;43mself\u001b[39;49m\u001b[38;5;241;43m.\u001b[39;49m\u001b[43m_validate\u001b[49m\u001b[43m(\u001b[49m\u001b[43mdata\u001b[49m\u001b[43m)\u001b[49m\n\u001b[0;32m    182\u001b[0m     \u001b[38;5;28mself\u001b[39m\u001b[38;5;241m.\u001b[39m_is_categorical \u001b[38;5;241m=\u001b[39m is_categorical_dtype(data\u001b[38;5;241m.\u001b[39mdtype)\n\u001b[0;32m    183\u001b[0m     \u001b[38;5;28mself\u001b[39m\u001b[38;5;241m.\u001b[39m_is_string \u001b[38;5;241m=\u001b[39m \u001b[38;5;28misinstance\u001b[39m(data\u001b[38;5;241m.\u001b[39mdtype, StringDtype)\n",
      "File \u001b[1;32mE:\\enviroments\\ai-explore\\lib\\site-packages\\pandas\\core\\strings\\accessor.py:235\u001b[0m, in \u001b[0;36mStringMethods._validate\u001b[1;34m(data)\u001b[0m\n\u001b[0;32m    232\u001b[0m inferred_dtype \u001b[38;5;241m=\u001b[39m lib\u001b[38;5;241m.\u001b[39minfer_dtype(values, skipna\u001b[38;5;241m=\u001b[39m\u001b[38;5;28;01mTrue\u001b[39;00m)\n\u001b[0;32m    234\u001b[0m \u001b[38;5;28;01mif\u001b[39;00m inferred_dtype \u001b[38;5;129;01mnot\u001b[39;00m \u001b[38;5;129;01min\u001b[39;00m allowed_types:\n\u001b[1;32m--> 235\u001b[0m     \u001b[38;5;28;01mraise\u001b[39;00m \u001b[38;5;167;01mAttributeError\u001b[39;00m(\u001b[38;5;124m\"\u001b[39m\u001b[38;5;124mCan only use .str accessor with string values!\u001b[39m\u001b[38;5;124m\"\u001b[39m)\n\u001b[0;32m    236\u001b[0m \u001b[38;5;28;01mreturn\u001b[39;00m inferred_dtype\n",
      "\u001b[1;31mAttributeError\u001b[0m: Can only use .str accessor with string values!"
     ]
    }
   ],
   "source": [
    "liabilityData['Total'] =assetData['Total'].str.replace(',', '').astype(float)"
   ]
  },
  {
   "cell_type": "code",
   "execution_count": 54,
   "id": "86403655",
   "metadata": {},
   "outputs": [],
   "source": [
    "liabiltyX = liabilityData[['Year','Interest Rates' ]]\n",
    "liabiltyY = liabilityData['Total']"
   ]
  },
  {
   "cell_type": "code",
   "execution_count": 55,
   "id": "1a944c3e",
   "metadata": {},
   "outputs": [],
   "source": [
    "l_x_train, l_x_test, l_y_train, l_y_test = train_test_split(liabiltyX, liabiltyY, test_size = 0.3)"
   ]
  },
  {
   "cell_type": "code",
   "execution_count": 57,
   "id": "8eb6c78f",
   "metadata": {},
   "outputs": [],
   "source": [
    "liabilityModel = LinearRegression()"
   ]
  },
  {
   "cell_type": "code",
   "execution_count": 58,
   "id": "bed631df",
   "metadata": {},
   "outputs": [
    {
     "data": {
      "text/html": [
       "<style>#sk-container-id-3 {color: black;background-color: white;}#sk-container-id-3 pre{padding: 0;}#sk-container-id-3 div.sk-toggleable {background-color: white;}#sk-container-id-3 label.sk-toggleable__label {cursor: pointer;display: block;width: 100%;margin-bottom: 0;padding: 0.3em;box-sizing: border-box;text-align: center;}#sk-container-id-3 label.sk-toggleable__label-arrow:before {content: \"▸\";float: left;margin-right: 0.25em;color: #696969;}#sk-container-id-3 label.sk-toggleable__label-arrow:hover:before {color: black;}#sk-container-id-3 div.sk-estimator:hover label.sk-toggleable__label-arrow:before {color: black;}#sk-container-id-3 div.sk-toggleable__content {max-height: 0;max-width: 0;overflow: hidden;text-align: left;background-color: #f0f8ff;}#sk-container-id-3 div.sk-toggleable__content pre {margin: 0.2em;color: black;border-radius: 0.25em;background-color: #f0f8ff;}#sk-container-id-3 input.sk-toggleable__control:checked~div.sk-toggleable__content {max-height: 200px;max-width: 100%;overflow: auto;}#sk-container-id-3 input.sk-toggleable__control:checked~label.sk-toggleable__label-arrow:before {content: \"▾\";}#sk-container-id-3 div.sk-estimator input.sk-toggleable__control:checked~label.sk-toggleable__label {background-color: #d4ebff;}#sk-container-id-3 div.sk-label input.sk-toggleable__control:checked~label.sk-toggleable__label {background-color: #d4ebff;}#sk-container-id-3 input.sk-hidden--visually {border: 0;clip: rect(1px 1px 1px 1px);clip: rect(1px, 1px, 1px, 1px);height: 1px;margin: -1px;overflow: hidden;padding: 0;position: absolute;width: 1px;}#sk-container-id-3 div.sk-estimator {font-family: monospace;background-color: #f0f8ff;border: 1px dotted black;border-radius: 0.25em;box-sizing: border-box;margin-bottom: 0.5em;}#sk-container-id-3 div.sk-estimator:hover {background-color: #d4ebff;}#sk-container-id-3 div.sk-parallel-item::after {content: \"\";width: 100%;border-bottom: 1px solid gray;flex-grow: 1;}#sk-container-id-3 div.sk-label:hover label.sk-toggleable__label {background-color: #d4ebff;}#sk-container-id-3 div.sk-serial::before {content: \"\";position: absolute;border-left: 1px solid gray;box-sizing: border-box;top: 0;bottom: 0;left: 50%;z-index: 0;}#sk-container-id-3 div.sk-serial {display: flex;flex-direction: column;align-items: center;background-color: white;padding-right: 0.2em;padding-left: 0.2em;position: relative;}#sk-container-id-3 div.sk-item {position: relative;z-index: 1;}#sk-container-id-3 div.sk-parallel {display: flex;align-items: stretch;justify-content: center;background-color: white;position: relative;}#sk-container-id-3 div.sk-item::before, #sk-container-id-3 div.sk-parallel-item::before {content: \"\";position: absolute;border-left: 1px solid gray;box-sizing: border-box;top: 0;bottom: 0;left: 50%;z-index: -1;}#sk-container-id-3 div.sk-parallel-item {display: flex;flex-direction: column;z-index: 1;position: relative;background-color: white;}#sk-container-id-3 div.sk-parallel-item:first-child::after {align-self: flex-end;width: 50%;}#sk-container-id-3 div.sk-parallel-item:last-child::after {align-self: flex-start;width: 50%;}#sk-container-id-3 div.sk-parallel-item:only-child::after {width: 0;}#sk-container-id-3 div.sk-dashed-wrapped {border: 1px dashed gray;margin: 0 0.4em 0.5em 0.4em;box-sizing: border-box;padding-bottom: 0.4em;background-color: white;}#sk-container-id-3 div.sk-label label {font-family: monospace;font-weight: bold;display: inline-block;line-height: 1.2em;}#sk-container-id-3 div.sk-label-container {text-align: center;}#sk-container-id-3 div.sk-container {/* jupyter's `normalize.less` sets `[hidden] { display: none; }` but bootstrap.min.css set `[hidden] { display: none !important; }` so we also need the `!important` here to be able to override the default hidden behavior on the sphinx rendered scikit-learn.org. See: https://github.com/scikit-learn/scikit-learn/issues/21755 */display: inline-block !important;position: relative;}#sk-container-id-3 div.sk-text-repr-fallback {display: none;}</style><div id=\"sk-container-id-3\" class=\"sk-top-container\"><div class=\"sk-text-repr-fallback\"><pre>LinearRegression()</pre><b>In a Jupyter environment, please rerun this cell to show the HTML representation or trust the notebook. <br />On GitHub, the HTML representation is unable to render, please try loading this page with nbviewer.org.</b></div><div class=\"sk-container\" hidden><div class=\"sk-item\"><div class=\"sk-estimator sk-toggleable\"><input class=\"sk-toggleable__control sk-hidden--visually\" id=\"sk-estimator-id-3\" type=\"checkbox\" checked><label for=\"sk-estimator-id-3\" class=\"sk-toggleable__label sk-toggleable__label-arrow\">LinearRegression</label><div class=\"sk-toggleable__content\"><pre>LinearRegression()</pre></div></div></div></div></div>"
      ],
      "text/plain": [
       "LinearRegression()"
      ]
     },
     "execution_count": 58,
     "metadata": {},
     "output_type": "execute_result"
    }
   ],
   "source": [
    "liabilityModel.fit(l_x_train, l_y_train)"
   ]
  },
  {
   "cell_type": "code",
   "execution_count": 60,
   "id": "fb670a60",
   "metadata": {},
   "outputs": [
    {
     "name": "stdout",
     "output_type": "stream",
     "text": [
      "[68185.4389343  30872.78104687]\n"
     ]
    }
   ],
   "source": [
    "print(liabilityModel.coef_)"
   ]
  },
  {
   "cell_type": "code",
   "execution_count": 61,
   "id": "b1613a70",
   "metadata": {},
   "outputs": [
    {
     "name": "stdout",
     "output_type": "stream",
     "text": [
      "-137344432.88895744\n"
     ]
    }
   ],
   "source": [
    "print(liabilityModel.intercept_)"
   ]
  },
  {
   "cell_type": "code",
   "execution_count": 62,
   "id": "fc098587",
   "metadata": {},
   "outputs": [
    {
     "data": {
      "text/html": [
       "<div>\n",
       "<style scoped>\n",
       "    .dataframe tbody tr th:only-of-type {\n",
       "        vertical-align: middle;\n",
       "    }\n",
       "\n",
       "    .dataframe tbody tr th {\n",
       "        vertical-align: top;\n",
       "    }\n",
       "\n",
       "    .dataframe thead th {\n",
       "        text-align: right;\n",
       "    }\n",
       "</style>\n",
       "<table border=\"1\" class=\"dataframe\">\n",
       "  <thead>\n",
       "    <tr style=\"text-align: right;\">\n",
       "      <th></th>\n",
       "      <th>Coeff</th>\n",
       "    </tr>\n",
       "  </thead>\n",
       "  <tbody>\n",
       "    <tr>\n",
       "      <th>Year</th>\n",
       "      <td>68185.438934</td>\n",
       "    </tr>\n",
       "    <tr>\n",
       "      <th>Interest Rates</th>\n",
       "      <td>30872.781047</td>\n",
       "    </tr>\n",
       "  </tbody>\n",
       "</table>\n",
       "</div>"
      ],
      "text/plain": [
       "                       Coeff\n",
       "Year            68185.438934\n",
       "Interest Rates  30872.781047"
      ]
     },
     "execution_count": 62,
     "metadata": {},
     "output_type": "execute_result"
    }
   ],
   "source": [
    "pd.DataFrame(liabilityModel.coef_, liabiltyX.columns, columns = ['Coeff'])"
   ]
  },
  {
   "cell_type": "code",
   "execution_count": 64,
   "id": "1b74a15f",
   "metadata": {},
   "outputs": [],
   "source": [
    "predictions = liabilityModel.predict(l_x_test)"
   ]
  },
  {
   "cell_type": "code",
   "execution_count": 65,
   "id": "added78f",
   "metadata": {},
   "outputs": [
    {
     "data": {
      "text/plain": [
       "array([1161973.2844907 ,  112202.15942767, 1170969.79817361,\n",
       "       -186299.10367176,  598496.74565059, 1034598.92030501,\n",
       "        239576.52361333])"
      ]
     },
     "execution_count": 65,
     "metadata": {},
     "output_type": "execute_result"
    }
   ],
   "source": [
    "predictions"
   ]
  },
  {
   "cell_type": "code",
   "execution_count": 67,
   "id": "8ed1dc00",
   "metadata": {},
   "outputs": [
    {
     "data": {
      "text/plain": [
       "<matplotlib.collections.PathCollection at 0x183e1ca4730>"
      ]
     },
     "execution_count": 67,
     "metadata": {},
     "output_type": "execute_result"
    },
    {
     "data": {
      "image/png": "[encoded data removed]",
      "text/plain": [
       "<Figure size 640x480 with 1 Axes>"
      ]
     },
     "metadata": {},
     "output_type": "display_data"
    }
   ],
   "source": [
    "plt.scatter(l_y_test, predictions)"
   ]
  },
  {
   "cell_type": "code",
   "execution_count": 69,
   "id": "39101272",
   "metadata": {},
   "outputs": [
    {
     "data": {
      "text/plain": [
       "(array([1., 1., 1., 0., 0., 2., 0., 1., 0., 1.]),\n",
       " array([-309170.23030501, -258921.57090734, -208672.91150966,\n",
       "        -158424.25211198, -108175.5927143 ,  -57926.93331663,\n",
       "          -7678.27391895,   42570.38547873,   92819.0448764 ,\n",
       "         143067.70427408,  193316.36367176]),\n",
       " <BarContainer object of 10 artists>)"
      ]
     },
     "execution_count": 69,
     "metadata": {},
     "output_type": "execute_result"
    },
    {
     "data": {
      "image/png": "[encoded data removed]",
      "text/plain": [
       "<Figure size 640x480 with 1 Axes>"
      ]
     },
     "metadata": {},
     "output_type": "display_data"
    }
   ],
   "source": [
    "plt.hist(l_y_test - predictions)"
   ]
  },
  {
   "cell_type": "code",
   "execution_count": 79,
   "id": "70b82be9",
   "metadata": {},
   "outputs": [
    {
     "data": {
      "text/plain": [
       "176687.44939572012"
      ]
     },
     "execution_count": 79,
     "metadata": {},
     "output_type": "execute_result"
    }
   ],
   "source": [
    "from sklearn import metrics\n",
    "\n",
    "metrics.mean_absolute_error(l_y_test, predictions)\n",
    "\n",
    "metrics.mean_squared_error(l_y_test, predictions)\n",
    "\n",
    "np.sqrt(metrics.mean_squared_error(l_y_test, predictions))"
   ]
  },
  {
   "cell_type": "code",
   "execution_count": null,
   "id": "d5cc3b60",
   "metadata": {},
   "outputs": [],
   "source": []
  },
  {
   "cell_type": "code",
   "execution_count": 73,
   "id": "6e3f3162",
   "metadata": {},
   "outputs": [],
   "source": [
    "import pickle"
   ]
  },
  {
   "cell_type": "code",
   "execution_count": 75,
   "id": "4b41b83f",
   "metadata": {},
   "outputs": [],
   "source": [
    "pkl_filename = \"pickle_liabilityModel.pkl\"\n",
    "with open(pkl_filename, 'wb') as file:\n",
    "    pickle.dump(liabilityModel, file)"
   ]
  },
  {
   "cell_type": "code",
   "execution_count": 77,
   "id": "323028f6",
   "metadata": {},
   "outputs": [],
   "source": [
    "with open(pkl_filename, 'rb') as file:\n",
    "    liabilityModel = pickle.load(file)"
   ]
  },
  {
   "cell_type": "code",
   "execution_count": 80,
   "id": "a03e6fd9",
   "metadata": {},
   "outputs": [],
   "source": [
    "liabilityPredict = liabilityModel.predict(l_x_test)"
   ]
  },
  {
   "cell_type": "code",
   "execution_count": 81,
   "id": "766b704e",
   "metadata": {},
   "outputs": [
    {
     "data": {
      "text/plain": [
       "array([1161973.2844907 ,  112202.15942767, 1170969.79817361,\n",
       "       -186299.10367176,  598496.74565059, 1034598.92030501,\n",
       "        239576.52361333])"
      ]
     },
     "execution_count": 81,
     "metadata": {},
     "output_type": "execute_result"
    }
   ],
   "source": [
    "liabilityPredict"
   ]
  },
  {
   "cell_type": "code",
   "execution_count": 84,
   "id": "635cad03",
   "metadata": {},
   "outputs": [
    {
     "data": {
      "text/html": [
       "<div>\n",
       "<style scoped>\n",
       "    .dataframe tbody tr th:only-of-type {\n",
       "        vertical-align: middle;\n",
       "    }\n",
       "\n",
       "    .dataframe tbody tr th {\n",
       "        vertical-align: top;\n",
       "    }\n",
       "\n",
       "    .dataframe thead th {\n",
       "        text-align: right;\n",
       "    }\n",
       "</style>\n",
       "<table border=\"1\" class=\"dataframe\">\n",
       "  <thead>\n",
       "    <tr style=\"text-align: right;\">\n",
       "      <th></th>\n",
       "      <th>Year</th>\n",
       "      <th>Interest Rates</th>\n",
       "    </tr>\n",
       "  </thead>\n",
       "  <tbody>\n",
       "    <tr>\n",
       "      <th>2</th>\n",
       "      <td>2020</td>\n",
       "      <td>25.0</td>\n",
       "    </tr>\n",
       "    <tr>\n",
       "      <th>14</th>\n",
       "      <td>2008</td>\n",
       "      <td>17.5</td>\n",
       "    </tr>\n",
       "    <tr>\n",
       "      <th>3</th>\n",
       "      <td>2019</td>\n",
       "      <td>27.5</td>\n",
       "    </tr>\n",
       "    <tr>\n",
       "      <th>22</th>\n",
       "      <td>2000</td>\n",
       "      <td>25.5</td>\n",
       "    </tr>\n",
       "    <tr>\n",
       "      <th>8</th>\n",
       "      <td>2014</td>\n",
       "      <td>20.0</td>\n",
       "    </tr>\n",
       "    <tr>\n",
       "      <th>5</th>\n",
       "      <td>2017</td>\n",
       "      <td>27.5</td>\n",
       "    </tr>\n",
       "    <tr>\n",
       "      <th>11</th>\n",
       "      <td>2011</td>\n",
       "      <td>15.0</td>\n",
       "    </tr>\n",
       "  </tbody>\n",
       "</table>\n",
       "</div>"
      ],
      "text/plain": [
       "    Year  Interest Rates\n",
       "2   2020            25.0\n",
       "14  2008            17.5\n",
       "3   2019            27.5\n",
       "22  2000            25.5\n",
       "8   2014            20.0\n",
       "5   2017            27.5\n",
       "11  2011            15.0"
      ]
     },
     "execution_count": 84,
     "metadata": {},
     "output_type": "execute_result"
    }
   ],
   "source": [
    "l_x_test"
   ]
  },
  {
   "cell_type": "code",
   "execution_count": 85,
   "id": "b38e34e8",
   "metadata": {},
   "outputs": [
    {
     "data": {
      "text/plain": [
       "2     1233662.54\n",
       "14      78421.32\n",
       "3     1006726.27\n",
       "22       7017.26\n",
       "8      376263.21\n",
       "5      725428.69\n",
       "11     185469.59\n",
       "Name: Total, dtype: float64"
      ]
     },
     "execution_count": 85,
     "metadata": {},
     "output_type": "execute_result"
    }
   ],
   "source": [
    " l_y_test"
   ]
  },
  {
   "cell_type": "code",
   "execution_count": 86,
   "id": "e4b1bb4a",
   "metadata": {},
   "outputs": [],
   "source": [
    "pkl_asset_filename = \"pickle_assetModel.pkl\"\n",
    "with open(pkl_asset_filename, 'wb') as file:\n",
    "    pickle.dump(assetModel, file)"
   ]
  },
  {
   "cell_type": "code",
   "execution_count": 88,
   "id": "1f05db3c",
   "metadata": {},
   "outputs": [],
   "source": [
    "with open(pkl_asset_filename, 'rb') as file:\n",
    "    assetModel = pickle.load(file)"
   ]
  },
  {
   "cell_type": "code",
   "execution_count": 89,
   "id": "165ac802",
   "metadata": {},
   "outputs": [],
   "source": [
    "assetPredict = assetModel.predict(x_test)"
   ]
  },
  {
   "cell_type": "code",
   "execution_count": 90,
   "id": "966cb0ad",
   "metadata": {},
   "outputs": [
    {
     "data": {
      "text/plain": [
       "array([1066132.79010126,   19644.79369152,  353466.50247079,\n",
       "        703652.19116978,  993424.44671351,  148166.94154368,\n",
       "         89788.04323204])"
      ]
     },
     "execution_count": 90,
     "metadata": {},
     "output_type": "execute_result"
    }
   ],
   "source": [
    "assetPredict"
   ]
  },
  {
   "cell_type": "code",
   "execution_count": 91,
   "id": "dba27b7d",
   "metadata": {},
   "outputs": [
    {
     "data": {
      "text/html": [
       "<div>\n",
       "<style scoped>\n",
       "    .dataframe tbody tr th:only-of-type {\n",
       "        vertical-align: middle;\n",
       "    }\n",
       "\n",
       "    .dataframe tbody tr th {\n",
       "        vertical-align: top;\n",
       "    }\n",
       "\n",
       "    .dataframe thead th {\n",
       "        text-align: right;\n",
       "    }\n",
       "</style>\n",
       "<table border=\"1\" class=\"dataframe\">\n",
       "  <thead>\n",
       "    <tr style=\"text-align: right;\">\n",
       "      <th></th>\n",
       "      <th>Year</th>\n",
       "      <th>Interest Rates</th>\n",
       "    </tr>\n",
       "  </thead>\n",
       "  <tbody>\n",
       "    <tr>\n",
       "      <th>1</th>\n",
       "      <td>2021</td>\n",
       "      <td>22.5</td>\n",
       "    </tr>\n",
       "    <tr>\n",
       "      <th>20</th>\n",
       "      <td>2002</td>\n",
       "      <td>25.5</td>\n",
       "    </tr>\n",
       "    <tr>\n",
       "      <th>10</th>\n",
       "      <td>2012</td>\n",
       "      <td>17.5</td>\n",
       "    </tr>\n",
       "    <tr>\n",
       "      <th>7</th>\n",
       "      <td>2015</td>\n",
       "      <td>22.5</td>\n",
       "    </tr>\n",
       "    <tr>\n",
       "      <th>5</th>\n",
       "      <td>2017</td>\n",
       "      <td>27.5</td>\n",
       "    </tr>\n",
       "    <tr>\n",
       "      <th>12</th>\n",
       "      <td>2010</td>\n",
       "      <td>15.0</td>\n",
       "    </tr>\n",
       "    <tr>\n",
       "      <th>18</th>\n",
       "      <td>2004</td>\n",
       "      <td>24.0</td>\n",
       "    </tr>\n",
       "  </tbody>\n",
       "</table>\n",
       "</div>"
      ],
      "text/plain": [
       "    Year  Interest Rates\n",
       "1   2021            22.5\n",
       "20  2002            25.5\n",
       "10  2012            17.5\n",
       "7   2015            22.5\n",
       "5   2017            27.5\n",
       "12  2010            15.0\n",
       "18  2004            24.0"
      ]
     },
     "execution_count": 91,
     "metadata": {},
     "output_type": "execute_result"
    }
   ],
   "source": [
    "x_test"
   ]
  },
  {
   "cell_type": "code",
   "execution_count": 92,
   "id": "5a671785",
   "metadata": {},
   "outputs": [
    {
     "data": {
      "text/plain": [
       "1     1484387.82\n",
       "20      14316.63\n",
       "10     239918.37\n",
       "7      483533.95\n",
       "5      725428.69\n",
       "12     134194.71\n",
       "18      27560.77\n",
       "Name: Total, dtype: float64"
      ]
     },
     "execution_count": 92,
     "metadata": {},
     "output_type": "execute_result"
    }
   ],
   "source": [
    "y_test"
   ]
  },
  {
   "cell_type": "code",
   "execution_count": 98,
   "id": "3001726b",
   "metadata": {},
   "outputs": [
    {
     "ename": "SyntaxError",
     "evalue": "expression cannot contain assignment, perhaps you meant \"==\"? (3446976857.py, line 1)",
     "output_type": "error",
     "traceback": [
      "\u001b[1;36m  Cell \u001b[1;32mIn[98], line 1\u001b[1;36m\u001b[0m\n\u001b[1;33m    assetPredict2 =  assetModel.predict(\"Year\"=[2022], \"Interest Rates\"=[24])\u001b[0m\n\u001b[1;37m                                        ^\u001b[0m\n\u001b[1;31mSyntaxError\u001b[0m\u001b[1;31m:\u001b[0m expression cannot contain assignment, perhaps you meant \"==\"?\n"
     ]
    }
   ],
   "source": [
    "assetPredict2 =  assetModel.predict(\"Year\"=[2022], \"Interest Rates\"=[24])"
   ]
  },
  {
   "cell_type": "code",
   "execution_count": 101,
   "id": "c73bc07c",
   "metadata": {},
   "outputs": [],
   "source": [
    "inputData = pd.DataFrame({'Year': [2022], 'Interest Rates': [20]})"
   ]
  },
  {
   "cell_type": "code",
   "execution_count": 102,
   "id": "4ac2e471",
   "metadata": {},
   "outputs": [
    {
     "data": {
      "text/html": [
       "<div>\n",
       "<style scoped>\n",
       "    .dataframe tbody tr th:only-of-type {\n",
       "        vertical-align: middle;\n",
       "    }\n",
       "\n",
       "    .dataframe tbody tr th {\n",
       "        vertical-align: top;\n",
       "    }\n",
       "\n",
       "    .dataframe thead th {\n",
       "        text-align: right;\n",
       "    }\n",
       "</style>\n",
       "<table border=\"1\" class=\"dataframe\">\n",
       "  <thead>\n",
       "    <tr style=\"text-align: right;\">\n",
       "      <th></th>\n",
       "      <th>Year</th>\n",
       "      <th>Interest Rates</th>\n",
       "    </tr>\n",
       "  </thead>\n",
       "  <tbody>\n",
       "    <tr>\n",
       "      <th>0</th>\n",
       "      <td>2022</td>\n",
       "      <td>20</td>\n",
       "    </tr>\n",
       "  </tbody>\n",
       "</table>\n",
       "</div>"
      ],
      "text/plain": [
       "   Year  Interest Rates\n",
       "0  2022              20"
      ]
     },
     "execution_count": 102,
     "metadata": {},
     "output_type": "execute_result"
    }
   ],
   "source": [
    "inputData"
   ]
  },
  {
   "cell_type": "code",
   "execution_count": 103,
   "id": "e21313a7",
   "metadata": {},
   "outputs": [],
   "source": [
    "assetPredict2 =  assetModel.predict(inputData)"
   ]
  },
  {
   "cell_type": "code",
   "execution_count": 104,
   "id": "2d469e14",
   "metadata": {},
   "outputs": [
    {
     "data": {
      "text/plain": [
       "array([1042073.52863987])"
      ]
     },
     "execution_count": 104,
     "metadata": {},
     "output_type": "execute_result"
    }
   ],
   "source": [
    "assetPredict2"
   ]
  },
  {
   "cell_type": "code",
   "execution_count": null,
   "id": "496f3cd0",
   "metadata": {},
   "outputs": [],
   "source": []
  }
 ],
 "metadata": {
  "kernelspec": {
   "display_name": "Python 3 (ipykernel)",
   "language": "python",
   "name": "python3"
  },
  "language_info": {
   "codemirror_mode": {
    "name": "ipython",
    "version": 3
   },
   "file_extension": ".py",
   "mimetype": "text/x-python",
   "name": "python",
   "nbconvert_exporter": "python",
   "pygments_lexer": "ipython3",
   "version": "3.10.4"
  }
 },
 "nbformat": 4,
 "nbformat_minor": 5
}
